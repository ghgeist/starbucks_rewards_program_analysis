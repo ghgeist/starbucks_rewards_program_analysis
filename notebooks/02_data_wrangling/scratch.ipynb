{
 "cells": [
  {
   "cell_type": "code",
   "execution_count": null,
   "metadata": {},
   "outputs": [],
   "source": [
    "id_cols = ['customer_id', 'offer_id']\n",
    "demo_cat_cols = ['age','income', 'days_as_member']\n",
    "demo_bool_cols = ['gender_F', 'gender_M', 'gender_O', 'gender_Unknown']\n",
    "offer_hrs_cols = ['offer_received', 'offer_viewed', 'offer_completed']\n",
    "offer_type_bool_cols = ['is_bogo', 'is_discount','is_informational']\n",
    "offer_desc_cols = ['difficulty', 'reward', 'duration_hrs', 'expiration']\n",
    "offer_channel_cols = ['email', 'mobile', 'social', 'web']\n",
    "offer_feat_cols =['time_to_complete','viewed_before_completion']"
   ]
  },
  {
   "cell_type": "code",
   "execution_count": null,
   "metadata": {},
   "outputs": [],
   "source": []
  }
 ],
 "metadata": {
  "language_info": {
   "name": "python"
  }
 },
 "nbformat": 4,
 "nbformat_minor": 2
}

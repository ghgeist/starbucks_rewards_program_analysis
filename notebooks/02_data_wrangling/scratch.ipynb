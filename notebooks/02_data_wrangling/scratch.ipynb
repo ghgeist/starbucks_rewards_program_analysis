{
 "cells": [
  {
   "cell_type": "code",
   "execution_count": null,
   "metadata": {},
   "outputs": [],
   "source": [
    "id_cols = ['customer_id', 'offer_id']\n",
    "demo_cat_cols = ['age','income', 'days_as_member']\n",
    "demo_bool_cols = ['gender_F', 'gender_M', 'gender_O', 'gender_Unknown']\n",
    "offer_hrs_cols = ['offer_received', 'offer_viewed', 'offer_completed']\n",
    "offer_type_bool_cols = ['is_bogo', 'is_discount','is_informational']\n",
    "offer_desc_cols = ['difficulty', 'reward', 'duration_hrs', 'expiration']\n",
    "offer_channel_cols = ['email', 'mobile', 'social', 'web']\n",
    "offer_feat_cols =['time_to_complete','viewed_before_completion']"
   ]
  },
  {
   "cell_type": "code",
   "execution_count": 1,
   "metadata": {},
   "outputs": [
    {
     "ename": "SyntaxError",
     "evalue": "invalid syntax (3989314554.py, line 1)",
     "output_type": "error",
     "traceback": [
      "\u001b[1;36m  Cell \u001b[1;32mIn[1], line 1\u001b[1;36m\u001b[0m\n\u001b[1;33m    0 to 0.19: Very weak\u001b[0m\n\u001b[1;37m      ^\u001b[0m\n\u001b[1;31mSyntaxError\u001b[0m\u001b[1;31m:\u001b[0m invalid syntax\n"
     ]
    }
   ],
   "source": [
    "0 to 0.19: Very weak\n",
    "0.20 to 0.39: Weak\n",
    "0.40 to 0.59: Moderate\n",
    "0.60 to 0.79: Strong\n",
    "0.80 to 1.0: Very strong"
   ]
  },
  {
   "cell_type": "code",
   "execution_count": null,
   "metadata": {},
   "outputs": [],
   "source": []
  }
 ],
 "metadata": {
  "kernelspec": {
   "display_name": ".venv",
   "language": "python",
   "name": "python3"
  },
  "language_info": {
   "codemirror_mode": {
    "name": "ipython",
    "version": 3
   },
   "file_extension": ".py",
   "mimetype": "text/x-python",
   "name": "python",
   "nbconvert_exporter": "python",
   "pygments_lexer": "ipython3",
   "version": "3.12.0"
  }
 },
 "nbformat": 4,
 "nbformat_minor": 2
}

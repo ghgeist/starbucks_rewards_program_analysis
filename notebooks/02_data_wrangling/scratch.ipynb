{
 "cells": [
  {
   "cell_type": "code",
   "execution_count": null,
   "metadata": {},
   "outputs": [],
   "source": [
    "# Load matched offers data and drop unnecessary columns\n",
    "demo_data = pd.read_pickle(r'data/04_fct/fct_matched_offers.pkl').set_index('customer_id')\n",
    "\n",
    "columns_to_drop = [\n",
    "    'offer_received', # dropping as this is implied by the record in the data set\n",
    "    'gender_Unknown', # dropping to avoid colinearity\n",
    "    'expiration', # dropping because we're interested in responses, not in timing\n",
    "    'offer_id', # can be derived by the characteristics of the offer\n",
    "    'email', # all overs were sent out via emaile\n",
    "    'is_informational', # dropping to avoid colinearity\n",
    "    'time_to_complete' # dropping because we're interested in responses, not in timing\n",
    "    ]\n",
    "demo_data.drop(columns=columns_to_drop, axis=1, inplace=True)\n",
    "\n",
    "# Convert columns to appropriate types\n",
    "# demo_data['offer_viewed'] = demo_data['offer_viewed'].notnull()\n",
    "# demo_data['offer_completed'] = demo_data['offer_completed'].notnull()\n",
    "# print(demo_data[demo_data['offer_completed'] == 0].shape[0])\n",
    "# assert 34292 == demo_data[demo_data['offer_completed'] == 0].shape[0]\n",
    "\n",
    "demo_data['total_transactions'] = demo_data['total_transactions'].fillna(0).astype(int)\n",
    "demo_data['total_transaction_amount'] = demo_data['total_transaction_amount'].round(2)\n",
    "demo_data['viewed_before_completion'] = demo_data['viewed_before_completion'].fillna(0)\n",
    "\n",
    "# Prepare demographic data\n",
    "demo_data = demo_data.dropna().drop('gender_O', axis=1)\n",
    "int_cols = ['age', 'income', 'days_as_member', 'difficulty', 'reward', 'duration_hrs', 'total_transactions', 'total_transaction_amount']\n",
    "boolean_cols = ['gender_F', 'gender_M', 'offer_viewed', 'offer_completed', 'viewed_before_completion', 'mobile', 'social', 'web', 'is_bogo', 'is_discount']\n",
    "# demo_data[int_cols] = demo_data[int_cols].apply(pd.to_numeric, downcast='integer')\n",
    "# demo_data[boolean_cols] = demo_data[boolean_cols].astype('int8')\n",
    "\n",
    "# Export cleaned data\n",
    "# demo_data.to_pickle('data/04_fct/fct_demographic_offers_and_transactions.pkl')\n",
    "# demo_data.to_csv('data/04_fct/fct_demographic_offers_and_transactions.csv')\n",
    "\n",
    "nan_offer_viewed = demo_data['offer_viewed'].isna().sum()\n",
    "nan_offer_completed = demo_data['offer_completed'].isna().sum()\n",
    "\n",
    "print(f\"Number of NaN values in offer_viewed: {nan_offer_viewed}\")\n",
    "print(f\"Number of NaN values in offer_completed: {nan_offer_completed}\")\n",
    "\n",
    "demo_data.head()\n"
   ]
  }
 ],
 "metadata": {
  "kernelspec": {
   "display_name": ".venv",
   "language": "python",
   "name": "python3"
  },
  "language_info": {
   "name": "python",
   "version": "3.12.0"
  }
 },
 "nbformat": 4,
 "nbformat_minor": 2
}

{
 "cells": [
  {
   "cell_type": "code",
   "execution_count": 30,
   "metadata": {},
   "outputs": [],
   "source": [
    "import pandas as pd\n",
    "import numpy as np\n",
    "from sklearn.tree import DecisionTreeClassifier\n",
    "from sklearn.ensemble import RandomForestClassifier\n",
    "from sklearn.model_selection import train_test_split\n",
    "from sklearn.metrics import accuracy_score\n",
    "from sklearn.metrics import classification_report, confusion_matrix, roc_auc_score\n",
    "from sklearn.inspection import permutation_importance"
   ]
  },
  {
   "cell_type": "code",
   "execution_count": 31,
   "metadata": {},
   "outputs": [],
   "source": [
    "# Import data\n",
    "data_new = pd.read_pickle(r'data\\04_fct\\fct_demographic_offers_and_transactions.pkl')\n",
    "\n",
    "# Filter data for male and female customers\n",
    "male_data = data_new[data_new['gender_M'] == 1]\n",
    "female_data = data_new[data_new['gender_F'] == 1]"
   ]
  },
  {
   "cell_type": "code",
   "execution_count": 32,
   "metadata": {},
   "outputs": [],
   "source": [
    "def train_random_forest_classifier(data, features, target, test_size=0.3, random_state=42):\n",
    "    \"\"\"\n",
    "    Trains a Random Forest classifier on the given dataset and features, then evaluates its accuracy.\n",
    "    \n",
    "    Parameters:\n",
    "    - data: DataFrame containing the dataset.\n",
    "    - features: List of column names to be used as features.\n",
    "    - target: Column name of the target variable.\n",
    "    - test_size: Fraction of the dataset to be used as test set.\n",
    "    - random_state: Seed used by the random number generator.\n",
    "    \n",
    "    Returns:\n",
    "    - A tuple containing the accuracy of the classifier and a DataFrame with feature importances.\n",
    "    \"\"\"\n",
    "    # Split the data into features and target variable\n",
    "    X = data[features]\n",
    "    y = data[target]\n",
    "    \n",
    "    # Split the data into training and testing sets\n",
    "    X_train, X_test, y_train, y_test = train_test_split(X, y, test_size=test_size, random_state=random_state)\n",
    "    \n",
    "    # Initialize and train the random forest classifier\n",
    "    rf_clf = RandomForestClassifier(random_state=random_state)\n",
    "    rf_clf.fit(X_train, y_train)\n",
    "    \n",
    "    # Make predictions\n",
    "    y_pred = rf_clf.predict(X_test)\n",
    "    \n",
    "    # Calculate accuracy\n",
    "    accuracy = accuracy_score(y_test, y_pred)\n",
    "    \n",
    "    # Extract feature importances\n",
    "    feature_importances = rf_clf.feature_importances_\n",
    "    \n",
    "    # Create a DataFrame to display feature importances\n",
    "    importance_df = pd.DataFrame({'feature': features, 'importance': feature_importances})\n",
    "    \n",
    "    return accuracy, importance_df"
   ]
  },
  {
   "cell_type": "code",
   "execution_count": 33,
   "metadata": {},
   "outputs": [],
   "source": [
    "features = ['mobile', 'social', 'web']\n",
    "target = 'offer_viewed'\n",
    "\n",
    "rf_accuracy_female, rf_importance_female = train_random_forest_classifier(female_data, features, target)\n",
    "rf_accuracy_male, rf_importance_male = train_random_forest_classifier(male_data, features, target)"
   ]
  },
  {
   "cell_type": "code",
   "execution_count": 34,
   "metadata": {},
   "outputs": [
    {
     "name": "stdout",
     "output_type": "stream",
     "text": [
      "Random Forest Accurancy, female: 0.7986263334794681\n",
      "Random Forest Accurancy, male: 0.7933431641036444\n"
     ]
    }
   ],
   "source": [
    "print(f'Random Forest Accurancy, female:', rf_accuracy_female)\n",
    "print(f'Random Forest Accurancy, male:', rf_accuracy_male)"
   ]
  },
  {
   "cell_type": "code",
   "execution_count": 35,
   "metadata": {},
   "outputs": [
    {
     "data": {
      "text/html": [
       "<div>\n",
       "<style scoped>\n",
       "    .dataframe tbody tr th:only-of-type {\n",
       "        vertical-align: middle;\n",
       "    }\n",
       "\n",
       "    .dataframe tbody tr th {\n",
       "        vertical-align: top;\n",
       "    }\n",
       "\n",
       "    .dataframe thead th {\n",
       "        text-align: right;\n",
       "    }\n",
       "</style>\n",
       "<table border=\"1\" class=\"dataframe\">\n",
       "  <thead>\n",
       "    <tr style=\"text-align: right;\">\n",
       "      <th></th>\n",
       "      <th>feature</th>\n",
       "      <th>importance_female</th>\n",
       "      <th>importance, male</th>\n",
       "    </tr>\n",
       "  </thead>\n",
       "  <tbody>\n",
       "    <tr>\n",
       "      <th>0</th>\n",
       "      <td>mobile</td>\n",
       "      <td>0.233115</td>\n",
       "      <td>0.194094</td>\n",
       "    </tr>\n",
       "    <tr>\n",
       "      <th>1</th>\n",
       "      <td>social</td>\n",
       "      <td>0.732477</td>\n",
       "      <td>0.764368</td>\n",
       "    </tr>\n",
       "    <tr>\n",
       "      <th>2</th>\n",
       "      <td>web</td>\n",
       "      <td>0.034408</td>\n",
       "      <td>0.041538</td>\n",
       "    </tr>\n",
       "  </tbody>\n",
       "</table>\n",
       "</div>"
      ],
      "text/plain": [
       "  feature  importance_female  importance, male\n",
       "0  mobile           0.233115          0.194094\n",
       "1  social           0.732477          0.764368\n",
       "2     web           0.034408          0.041538"
      ]
     },
     "execution_count": 35,
     "metadata": {},
     "output_type": "execute_result"
    }
   ],
   "source": [
    "rf_importance_merged = pd.merge(rf_importance_female, rf_importance_male, on='feature', how='inner')\n",
    "cols = {'importance_x': 'importance_female', 'importance_y': 'importance, male'}\n",
    "rf_importance_merged = rf_importance_merged.rename(columns=cols)\n",
    "rf_importance_merged"
   ]
  },
  {
   "cell_type": "code",
   "execution_count": null,
   "metadata": {},
   "outputs": [],
   "source": []
  }
 ],
 "metadata": {
  "kernelspec": {
   "display_name": ".venv",
   "language": "python",
   "name": "python3"
  },
  "language_info": {
   "codemirror_mode": {
    "name": "ipython",
    "version": 3
   },
   "file_extension": ".py",
   "mimetype": "text/x-python",
   "name": "python",
   "nbconvert_exporter": "python",
   "pygments_lexer": "ipython3",
   "version": "3.12.0"
  }
 },
 "nbformat": 4,
 "nbformat_minor": 2
}

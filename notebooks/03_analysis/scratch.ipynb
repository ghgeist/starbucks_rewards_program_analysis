{
 "cells": [
  {
   "cell_type": "code",
   "execution_count": null,
   "metadata": {},
   "outputs": [],
   "source": [
    "# Calculate the numerator (difference between the matrices)\n",
    "numerator = results_female['Confusion Matrix'] - results_male['Confusion Matrix']\n",
    "\n",
    "# Calculate the denominator (sum of the matrices)\n",
    "denominator = (results_female['Confusion Matrix'] + results_male['Confusion Matrix'])/2\n",
    "\n",
    "con_perc_diff = (numerator / denominator) * 100\n",
    "\n",
    "# Specify the labels for the confusion matrix\n",
    "index_labels = ['Actual Positive', 'Actual Negative']\n",
    "column_labels = ['Predicted Positive', 'Predicted Negative']\n",
    "\n",
    "# Create the DataFrame\n",
    "con_perc_df = pd.DataFrame(con_perc_diff, index=index_labels, columns=column_labels)\n",
    "con_per_df = round(con_perc_df, 2)\n",
    "con_per_df"
   ]
  }
 ],
 "metadata": {
  "language_info": {
   "name": "python"
  }
 },
 "nbformat": 4,
 "nbformat_minor": 2
}

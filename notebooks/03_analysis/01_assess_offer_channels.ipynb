{
 "cells": [
  {
   "cell_type": "code",
   "execution_count": 6,
   "metadata": {},
   "outputs": [],
   "source": [
    "import numpy as np\n",
    "import pandas as pd\n",
    "from sklearn.ensemble import RandomForestClassifier\n",
    "from sklearn.inspection import permutation_importance\n",
    "from sklearn.metrics import accuracy_score, classification_report, confusion_matrix, roc_auc_score\n",
    "from sklearn.model_selection import train_test_split\n",
    "from sklearn.tree import DecisionTreeClassifier"
   ]
  },
  {
   "cell_type": "code",
   "execution_count": 7,
   "metadata": {},
   "outputs": [],
   "source": [
    "# Import data\n",
    "data_new = pd.read_pickle(r'data\\04_fct\\fct_demographic_offers_and_transactions.pkl')\n",
    "\n",
    "# Filter data for male and female customers\n",
    "male_data = data_new[data_new['gender_M'] == 1]\n",
    "female_data = data_new[data_new['gender_F'] == 1]"
   ]
  },
  {
   "cell_type": "code",
   "execution_count": 8,
   "metadata": {},
   "outputs": [
    {
     "data": {
      "text/plain": [
       "(0.7986263334794681,\n",
       "   Feature  Importance\n",
       " 0  mobile    0.233115\n",
       " 1  social    0.732477\n",
       " 2     web    0.034408)"
      ]
     },
     "execution_count": 8,
     "metadata": {},
     "output_type": "execute_result"
    }
   ],
   "source": [
    "# Extract features and target variable for female customers\n",
    "features_female = female_data[['mobile', 'social', 'web']]\n",
    "target_female = female_data['offer_viewed']\n",
    "\n",
    "# Split the data into training and testing sets\n",
    "X_train_female, X_test_female, y_train_female, y_test_female = train_test_split(features_female, target_female, test_size=0.3, random_state=42)\n",
    "\n",
    "# Initialize and train the random forest classifier\n",
    "rf_clf_female = RandomForestClassifier(random_state=42)\n",
    "rf_clf_female.fit(X_train_female, y_train_female)\n",
    "\n",
    "# Make predictions\n",
    "y_rf_pred_female = rf_clf_female.predict(X_test_female)\n",
    "\n",
    "# Calculate accuracy\n",
    "rf_accuracy_female = accuracy_score(y_test_female, y_rf_pred_female)\n",
    "\n",
    "# Extract feature importances\n",
    "rf_feature_importances_female = rf_clf_female.feature_importances_\n",
    "\n",
    "# Create a DataFrame to display feature importances\n",
    "rf_importance_df_female = pd.DataFrame({'Feature': ['mobile', 'social', 'web'], 'Importance': rf_feature_importances_female})\n",
    "\n",
    "rf_accuracy_female, rf_importance_df_female\n"
   ]
  },
  {
   "cell_type": "code",
   "execution_count": 9,
   "metadata": {},
   "outputs": [
    {
     "data": {
      "text/plain": [
       "(0.7933431641036444,\n",
       "   Feature  Importance\n",
       " 0  mobile    0.194094\n",
       " 1  social    0.764368\n",
       " 2     web    0.041538)"
      ]
     },
     "execution_count": 9,
     "metadata": {},
     "output_type": "execute_result"
    }
   ],
   "source": [
    "# Extract features and target variable for male customers\n",
    "features_male = male_data[['mobile', 'social', 'web']]\n",
    "target_male = male_data['offer_viewed']\n",
    "\n",
    "# Split the data into training and testing sets\n",
    "X_train_male, X_test_male, y_train_male, y_test_male = train_test_split(features_male, target_male, test_size=0.3, random_state=42)\n",
    "\n",
    "# Initialize and train the random forest classifier\n",
    "rf_clf_male = RandomForestClassifier(random_state=42)\n",
    "rf_clf_male.fit(X_train_male, y_train_male)\n",
    "\n",
    "# Make predictions\n",
    "y_rf_pred_male = rf_clf_male.predict(X_test_male)\n",
    "\n",
    "# Calculate accuracy\n",
    "rf_accuracy_male = accuracy_score(y_test_male, y_rf_pred_male)\n",
    "\n",
    "# Extract feature importances\n",
    "rf_feature_importances_male = rf_clf_male.feature_importances_\n",
    "\n",
    "# Create a DataFrame to display feature importances\n",
    "rf_importance_df_male = pd.DataFrame({'Feature': ['mobile', 'social', 'web'], 'Importance': rf_feature_importances_male})\n",
    "\n",
    "rf_accuracy_male, rf_importance_df_male\n"
   ]
  },
  {
   "cell_type": "code",
   "execution_count": 12,
   "metadata": {},
   "outputs": [
    {
     "data": {
      "text/plain": [
       "(  Feature  Importance  Importance STD\n",
       " 0  mobile    0.029373        0.002633\n",
       " 1  social    0.014000        0.002043\n",
       " 2     web    0.003829        0.001550,\n",
       "   Feature  Importance  Importance STD\n",
       " 0  mobile    0.032505        0.001073\n",
       " 1  social    0.020876        0.001315\n",
       " 2     web    0.000000        0.000000)"
      ]
     },
     "execution_count": 12,
     "metadata": {},
     "output_type": "execute_result"
    }
   ],
   "source": [
    "# Train the Random Forest classifier for female customers\n",
    "rf_clf_female = RandomForestClassifier(random_state=42)\n",
    "rf_clf_female.fit(X_train_female, y_train_female)\n",
    "\n",
    "# Calculate permutation importance for female customers\n",
    "perm_importance_female = permutation_importance(rf_clf_female, X_test_female, y_test_female, n_repeats=10, random_state=42)\n",
    "\n",
    "# Train the Random Forest classifier for male customers\n",
    "rf_clf_male = RandomForestClassifier(random_state=42)\n",
    "rf_clf_male.fit(X_train_male, y_train_male)\n",
    "\n",
    "# Calculate permutation importance for male customers\n",
    "perm_importance_male = permutation_importance(rf_clf_male, X_test_male, y_test_male, n_repeats=10, random_state=42)\n",
    "\n",
    "# Create DataFrames to display permutation importances\n",
    "perm_importance_df_female = pd.DataFrame({'Feature': ['mobile', 'social', 'web'],\n",
    "                                          'Importance': perm_importance_female.importances_mean,\n",
    "                                          'Importance STD': perm_importance_female.importances_std})\n",
    "\n",
    "perm_importance_df_male = pd.DataFrame({'Feature': ['mobile', 'social', 'web'],\n",
    "                                        'Importance': perm_importance_male.importances_mean,\n",
    "                                        'Importance STD': perm_importance_male.importances_std})\n",
    "\n",
    "\n",
    "perm_importance_df_female, perm_importance_df_male\n"
   ]
  },
  {
   "cell_type": "markdown",
   "metadata": {},
   "source": [
    "Conclusion\n",
    "* Mobile Channel: More important for both genders but slightly more important for males.\n",
    "* Social Channel: More important for males than females.\n",
    "* Web Channel: Shows some importance for females but no importance for males."
   ]
  },
  {
   "cell_type": "code",
   "execution_count": 15,
   "metadata": {},
   "outputs": [
    {
     "data": {
      "text/plain": [
       "({'Accuracy': 0.7986263334794681,\n",
       "  'Confusion Matrix': array([[ 427, 1115],\n",
       "         [ 263, 5038]], dtype=int64),\n",
       "  'Classification Report': '              precision    recall  f1-score   support\\n\\n           0       0.62      0.28      0.38      1542\\n           1       0.82      0.95      0.88      5301\\n\\n    accuracy                           0.80      6843\\n   macro avg       0.72      0.61      0.63      6843\\nweighted avg       0.77      0.80      0.77      6843\\n',\n",
       "  'ROC-AUC Score': 0.8112081977533545},\n",
       " {'Accuracy': 0.7933431641036444,\n",
       "  'Confusion Matrix': array([[ 633, 1653],\n",
       "         [ 309, 6899]], dtype=int64),\n",
       "  'Classification Report': '              precision    recall  f1-score   support\\n\\n           0       0.67      0.28      0.39      2286\\n           1       0.81      0.96      0.88      7208\\n\\n    accuracy                           0.79      9494\\n   macro avg       0.74      0.62      0.63      9494\\nweighted avg       0.77      0.79      0.76      9494\\n',\n",
       "  'ROC-AUC Score': 0.8403695393375494})"
      ]
     },
     "execution_count": 15,
     "metadata": {},
     "output_type": "execute_result"
    }
   ],
   "source": [
    "\n",
    "\n",
    "# Predictions and metrics for female customers\n",
    "y_test_pred_female = rf_clf_female.predict(X_test_female)\n",
    "y_test_prob_female = rf_clf_female.predict_proba(X_test_female)[:, 1]\n",
    "\n",
    "accuracy_female = accuracy_score(y_test_female, y_test_pred_female)\n",
    "conf_matrix_female = confusion_matrix(y_test_female, y_test_pred_female)\n",
    "class_report_female = classification_report(y_test_female, y_test_pred_female)\n",
    "roc_auc_female = roc_auc_score(y_test_female, y_test_prob_female)\n",
    "\n",
    "# Predictions and metrics for male customers\n",
    "y_test_pred_male = rf_clf_male.predict(X_test_male)\n",
    "y_test_prob_male = rf_clf_male.predict_proba(X_test_male)[:, 1]\n",
    "\n",
    "accuracy_male = accuracy_score(y_test_male, y_test_pred_male)\n",
    "conf_matrix_male = confusion_matrix(y_test_male, y_test_pred_male)\n",
    "class_report_male = classification_report(y_test_male, y_test_pred_male)\n",
    "roc_auc_male = roc_auc_score(y_test_male, y_test_prob_male)\n",
    "\n",
    "# Display the results\n",
    "results_female = {\n",
    "    \"Accuracy\": accuracy_female,\n",
    "    \"Confusion Matrix\": conf_matrix_female,\n",
    "    \"Classification Report\": class_report_female,\n",
    "    \"ROC-AUC Score\": roc_auc_female\n",
    "}\n",
    "\n",
    "results_male = {\n",
    "    \"Accuracy\": accuracy_male,\n",
    "    \"Confusion Matrix\": conf_matrix_male,\n",
    "    \"Classification Report\": class_report_male,\n",
    "    \"ROC-AUC Score\": roc_auc_male\n",
    "}\n",
    "\n",
    "results_female, results_male\n"
   ]
  },
  {
   "cell_type": "markdown",
   "metadata": {},
   "source": [
    "- **ROC-AUC Score**: 0.8404\n",
    "\n",
    "### Analysis\n",
    "\n",
    "1. **Accuracy**:\n",
    " - The accuracy is similar for both genders, with females at 79.86% and males at 79.33%.\n",
    "\n",
    "2. **Confusion Matrix**:\n",
    " - Both genders show a higher number of false positives (1115 for females and 1653 for males) compared to false negatives (263 for females and 309 for males).\n",
    " - The model performs well in identifying true positives for both genders.\n",
    "\n",
    "3. **Classification Report**:\n",
    " - **Precision**: Slightly higher for males (0.81) compared to females (0.82) for the positive class.\n",
    " - **Recall**: Higher for both genders for the positive class, with males at 0.96 and females at 0.95.\n",
    " - **F1-Score**: Consistently higher for the positive class for both genders.\n",
    "\n",
    "4. **ROC-AUC Score**:\n",
    " - The ROC-AUC score is higher for males (0.8404) compared to females (0.8112), indicating better performance in distinguishing between classes for male customers.\n",
    "\n",
    "### Conclusion\n",
    "\n",
    "- The model performs similarly for both genders, with slight differences in precision, recall, and ROC-AUC scores.\n",
    "- The mobile and social channels are the most important for both genders, with the mobile channel being slightly more important for males.\n",
    "- The web channel has limited importance overall, with some importance for females but none for males.\n"
   ]
  },
  {
   "cell_type": "markdown",
   "metadata": {},
   "source": []
  }
 ],
 "metadata": {
  "kernelspec": {
   "display_name": ".venv",
   "language": "python",
   "name": "python3"
  },
  "language_info": {
   "codemirror_mode": {
    "name": "ipython",
    "version": 3
   },
   "file_extension": ".py",
   "mimetype": "text/x-python",
   "name": "python",
   "nbconvert_exporter": "python",
   "pygments_lexer": "ipython3",
   "version": "3.12.0"
  }
 },
 "nbformat": 4,
 "nbformat_minor": 2
}

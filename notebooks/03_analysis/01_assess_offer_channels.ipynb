{
 "cells": [
  {
   "cell_type": "code",
   "execution_count": 6,
   "metadata": {},
   "outputs": [],
   "source": [
    "import numpy as np\n",
    "import pandas as pd\n",
    "from sklearn.ensemble import RandomForestClassifier\n",
    "from sklearn.inspection import permutation_importance\n",
    "from sklearn.metrics import accuracy_score, classification_report, confusion_matrix, roc_auc_score\n",
    "from sklearn.model_selection import train_test_split"
   ]
  },
  {
   "cell_type": "code",
   "execution_count": null,
   "metadata": {},
   "outputs": [],
   "source": [
    "# Import data\n",
    "data_new = pd.read_pickle(r'data\\04_fct\\fct_demographic_offers_and_transactions.pkl')"
   ]
  },
  {
   "cell_type": "code",
   "execution_count": null,
   "metadata": {},
   "outputs": [],
   "source": [
    "def process_data(data, gender_column):\n",
    "    # Filter data for the specified gender\n",
    "    gender_data = data[data[gender_column] == 1]\n",
    "    # Extract features and target variable\n",
    "    features = gender_data[['mobile', 'social', 'web']]\n",
    "    target = gender_data['offer_viewed']\n",
    "    # Split the data into training and testing sets\n",
    "    X_train, X_test, y_train, y_test = train_test_split(features, target, test_size=0.3, random_state=42)\n",
    "    return X_train, X_test, y_train, y_test\n",
    "\n",
    "def train_evaluate_model(X_train, X_test, y_train, y_test):\n",
    "    # Initialize and train the random forest classifier\n",
    "    rf_clf = RandomForestClassifier(random_state=42)\n",
    "    rf_clf.fit(X_train, y_train)\n",
    "    # Make predictions\n",
    "    y_pred = rf_clf.predict(X_test)\n",
    "    y_prob = rf_clf.predict_proba(X_test)[:, 1]\n",
    "    # Calculate metrics\n",
    "    accuracy = accuracy_score(y_test, y_pred)\n",
    "    conf_matrix = confusion_matrix(y_test, y_pred)\n",
    "    class_report = classification_report(y_test, y_pred)\n",
    "    roc_auc = roc_auc_score(y_test, y_prob)\n",
    "    # Calculate permutation importance\n",
    "    perm_importance = permutation_importance(rf_clf, X_test, y_test, n_repeats=10, random_state=42)\n",
    "    perm_importance_df = pd.DataFrame({'Feature': ['mobile', 'social', 'web'],\n",
    "                                       'Importance': perm_importance.importances_mean,\n",
    "                                       'Importance STD': perm_importance.importances_std})\n",
    "    return {\n",
    "        \"Accuracy\": accuracy,\n",
    "        \"Confusion Matrix\": conf_matrix,\n",
    "        \"Classification Report\": class_report,\n",
    "        \"ROC-AUC Score\": roc_auc,\n",
    "        \"Permutation Importance\": perm_importance_df\n",
    "    }"
   ]
  },
  {
   "cell_type": "code",
   "execution_count": 2,
   "metadata": {},
   "outputs": [],
   "source": [
    "# Process data for female and male customers\n",
    "X_train_female, X_test_female, y_train_female, y_test_female = process_data(data_new, 'gender_F')\n",
    "X_train_male, X_test_male, y_train_male, y_test_male = process_data(data_new, 'gender_M')\n",
    "\n",
    "# Train and evaluate models for female and male customers\n",
    "results_female = train_evaluate_model(X_train_female, X_test_female, y_train_female, y_test_female)\n",
    "results_male = train_evaluate_model(X_train_male, X_test_male, y_train_male, y_test_male)"
   ]
  },
  {
   "cell_type": "code",
   "execution_count": 3,
   "metadata": {},
   "outputs": [
    {
     "data": {
      "text/plain": [
       "{'Accuracy': 0.7986263334794681,\n",
       " 'Confusion Matrix': array([[ 427, 1115],\n",
       "        [ 263, 5038]], dtype=int64),\n",
       " 'Classification Report': '              precision    recall  f1-score   support\\n\\n           0       0.62      0.28      0.38      1542\\n           1       0.82      0.95      0.88      5301\\n\\n    accuracy                           0.80      6843\\n   macro avg       0.72      0.61      0.63      6843\\nweighted avg       0.77      0.80      0.77      6843\\n',\n",
       " 'ROC-AUC Score': 0.8112081977533545,\n",
       " 'Permutation Importance':   Feature  Importance  Importance STD\n",
       " 0  mobile    0.029373        0.002633\n",
       " 1  social    0.014000        0.002043\n",
       " 2     web    0.003829        0.001550}"
      ]
     },
     "execution_count": 3,
     "metadata": {},
     "output_type": "execute_result"
    }
   ],
   "source": []
  },
  {
   "cell_type": "markdown",
   "metadata": {},
   "source": [
    "Conclusion\n",
    "* Mobile Channel: More important for both genders but slightly more important for males.\n",
    "* Social Channel: More important for males than females.\n",
    "* Web Channel: Shows some importance for females but no importance for males."
   ]
  },
  {
   "cell_type": "markdown",
   "metadata": {},
   "source": [
    "- **ROC-AUC Score**: 0.8404\n",
    "\n",
    "### Analysis\n",
    "\n",
    "1. **Accuracy**:\n",
    " - The accuracy is similar for both genders, with females at 79.86% and males at 79.33%.\n",
    "\n",
    "2. **Confusion Matrix**:\n",
    " - Both genders show a higher number of false positives (1115 for females and 1653 for males) compared to false negatives (263 for females and 309 for males).\n",
    " - The model performs well in identifying true positives for both genders.\n",
    "\n",
    "3. **Classification Report**:\n",
    " - **Precision**: Slightly higher for males (0.81) compared to females (0.82) for the positive class.\n",
    " - **Recall**: Higher for both genders for the positive class, with males at 0.96 and females at 0.95.\n",
    " - **F1-Score**: Consistently higher for the positive class for both genders.\n",
    "\n",
    "4. **ROC-AUC Score**:\n",
    " - The ROC-AUC score is higher for males (0.8404) compared to females (0.8112), indicating better performance in distinguishing between classes for male customers.\n",
    "\n",
    "### Conclusion\n",
    "\n",
    "- The model performs similarly for both genders, with slight differences in precision, recall, and ROC-AUC scores.\n",
    "- The mobile and social channels are the most important for both genders, with the mobile channel being slightly more important for males.\n",
    "- The web channel has limited importance overall, with some importance for females but none for males.\n"
   ]
  },
  {
   "cell_type": "markdown",
   "metadata": {},
   "source": []
  }
 ],
 "metadata": {
  "kernelspec": {
   "display_name": ".venv",
   "language": "python",
   "name": "python3"
  },
  "language_info": {
   "codemirror_mode": {
    "name": "ipython",
    "version": 3
   },
   "file_extension": ".py",
   "mimetype": "text/x-python",
   "name": "python",
   "nbconvert_exporter": "python",
   "pygments_lexer": "ipython3",
   "version": "3.12.0"
  }
 },
 "nbformat": 4,
 "nbformat_minor": 2
}

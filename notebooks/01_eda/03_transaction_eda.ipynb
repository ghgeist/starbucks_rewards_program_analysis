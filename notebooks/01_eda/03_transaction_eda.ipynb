{
 "cells": [
  {
   "cell_type": "markdown",
   "metadata": {},
   "source": [
    "# Import Packages and Data. Identify the transactions in the 'transcript' data"
   ]
  },
  {
   "cell_type": "code",
   "execution_count": 10,
   "metadata": {},
   "outputs": [
    {
     "name": "stdout",
     "output_type": "stream",
     "text": [
      "There are 16578 unique customers in the dataset.\n"
     ]
    },
    {
     "data": {
      "text/html": [
       "<div>\n",
       "<style scoped>\n",
       "    .dataframe tbody tr th:only-of-type {\n",
       "        vertical-align: middle;\n",
       "    }\n",
       "\n",
       "    .dataframe tbody tr th {\n",
       "        vertical-align: top;\n",
       "    }\n",
       "\n",
       "    .dataframe thead th {\n",
       "        text-align: right;\n",
       "    }\n",
       "</style>\n",
       "<table border=\"1\" class=\"dataframe\">\n",
       "  <thead>\n",
       "    <tr style=\"text-align: right;\">\n",
       "      <th></th>\n",
       "      <th>customer_id</th>\n",
       "      <th>transaction</th>\n",
       "      <th>transaction_amount</th>\n",
       "    </tr>\n",
       "  </thead>\n",
       "  <tbody>\n",
       "    <tr>\n",
       "      <th>58812</th>\n",
       "      <td>6cf884a6c5ae4b2daccb6d3108028fef</td>\n",
       "      <td>630</td>\n",
       "      <td>1062.28</td>\n",
       "    </tr>\n",
       "    <tr>\n",
       "      <th>37801</th>\n",
       "      <td>454b00bdd77c4f588eb9f6cafd81dc5d</td>\n",
       "      <td>690</td>\n",
       "      <td>1015.73</td>\n",
       "    </tr>\n",
       "    <tr>\n",
       "      <th>51385</th>\n",
       "      <td>5ecaea5c8bf44ae4a65838d9d066c909</td>\n",
       "      <td>102</td>\n",
       "      <td>1001.85</td>\n",
       "    </tr>\n",
       "    <tr>\n",
       "      <th>119948</th>\n",
       "      <td>dce784e26f294101999d000fad9089bb</td>\n",
       "      <td>372</td>\n",
       "      <td>989.34</td>\n",
       "    </tr>\n",
       "    <tr>\n",
       "      <th>44941</th>\n",
       "      <td>52959f19113e4241a8cb3bef486c6412</td>\n",
       "      <td>696</td>\n",
       "      <td>977.78</td>\n",
       "    </tr>\n",
       "  </tbody>\n",
       "</table>\n",
       "</div>"
      ],
      "text/plain": [
       "                             customer_id  transaction  transaction_amount\n",
       "58812   6cf884a6c5ae4b2daccb6d3108028fef          630             1062.28\n",
       "37801   454b00bdd77c4f588eb9f6cafd81dc5d          690             1015.73\n",
       "51385   5ecaea5c8bf44ae4a65838d9d066c909          102             1001.85\n",
       "119948  dce784e26f294101999d000fad9089bb          372              989.34\n",
       "44941   52959f19113e4241a8cb3bef486c6412          696              977.78"
      ]
     },
     "execution_count": 10,
     "metadata": {},
     "output_type": "execute_result"
    }
   ],
   "source": [
    "import pandas as pd\n",
    "import numpy as np\n",
    "import matplotlib.pyplot as plt\n",
    "import seaborn as sns\n",
    "\n",
    "# Load the transcript data\n",
    "transcript = pd.read_pickle(r'data\\02_stg\\stg_transcript.pkl')\n",
    "\n",
    "# Filter on transactions\n",
    "transactions = transcript[transcript['event'] == 'transaction']\n",
    "\n",
    "#Drop unneeded columns\n",
    "transactions = transactions.drop(columns=['offer_id', 'event', 'reward'])\n",
    "\n",
    "#Rename columns\n",
    "transactions = transactions.rename(columns={'time_hrs': 'transaction'})\n",
    "\n",
    "#Reset index\n",
    "transactions = transactions.reset_index(drop=True)\n",
    "\n",
    "#save the data\n",
    "transactions.to_csv(r'data\\03_int\\int_transactions.csv', index=False)\n",
    "transactions.to_pickle(r'data\\03_int\\int_transactions.pkl')\n",
    "\n",
    "# Calculate the number of unique customers\n",
    "num_customers = transactions['customer_id'].nunique()\n",
    "print(f'There are {num_customers} unique customers in the dataset.')\n",
    "\n",
    "#Sort data to see the highest transaction amounts\n",
    "transactions.sort_values(by='transaction_amount', ascending=False, inplace=False).head()"
   ]
  },
  {
   "cell_type": "markdown",
   "metadata": {},
   "source": [
    "# Count and Sum Transactions per Customer Id"
   ]
  },
  {
   "cell_type": "code",
   "execution_count": 11,
   "metadata": {},
   "outputs": [
    {
     "data": {
      "text/html": [
       "<div>\n",
       "<style scoped>\n",
       "    .dataframe tbody tr th:only-of-type {\n",
       "        vertical-align: middle;\n",
       "    }\n",
       "\n",
       "    .dataframe tbody tr th {\n",
       "        vertical-align: top;\n",
       "    }\n",
       "\n",
       "    .dataframe thead th {\n",
       "        text-align: right;\n",
       "    }\n",
       "</style>\n",
       "<table border=\"1\" class=\"dataframe\">\n",
       "  <thead>\n",
       "    <tr style=\"text-align: right;\">\n",
       "      <th></th>\n",
       "      <th>customer_id</th>\n",
       "      <th>total_transactions</th>\n",
       "      <th>total_transaction_amount</th>\n",
       "    </tr>\n",
       "  </thead>\n",
       "  <tbody>\n",
       "    <tr>\n",
       "      <th>7887</th>\n",
       "      <td>79d9d4f86aca4bed9290350fb43817c2</td>\n",
       "      <td>36</td>\n",
       "      <td>173.41</td>\n",
       "    </tr>\n",
       "    <tr>\n",
       "      <th>9239</th>\n",
       "      <td>8dbfa485249f409aa223a2130f40634a</td>\n",
       "      <td>36</td>\n",
       "      <td>76.46</td>\n",
       "    </tr>\n",
       "    <tr>\n",
       "      <th>9702</th>\n",
       "      <td>94de646f7b6041228ca7dec82adb97d2</td>\n",
       "      <td>35</td>\n",
       "      <td>90.23</td>\n",
       "    </tr>\n",
       "    <tr>\n",
       "      <th>11652</th>\n",
       "      <td>b1f4ece7d49342628a9ed77aee2cde58</td>\n",
       "      <td>32</td>\n",
       "      <td>133.02</td>\n",
       "    </tr>\n",
       "    <tr>\n",
       "      <th>6118</th>\n",
       "      <td>5e60c6aa3b834e44b822ea43a3efea26</td>\n",
       "      <td>32</td>\n",
       "      <td>103.66</td>\n",
       "    </tr>\n",
       "  </tbody>\n",
       "</table>\n",
       "</div>"
      ],
      "text/plain": [
       "                            customer_id  total_transactions  \\\n",
       "7887   79d9d4f86aca4bed9290350fb43817c2                  36   \n",
       "9239   8dbfa485249f409aa223a2130f40634a                  36   \n",
       "9702   94de646f7b6041228ca7dec82adb97d2                  35   \n",
       "11652  b1f4ece7d49342628a9ed77aee2cde58                  32   \n",
       "6118   5e60c6aa3b834e44b822ea43a3efea26                  32   \n",
       "\n",
       "       total_transaction_amount  \n",
       "7887                     173.41  \n",
       "9239                      76.46  \n",
       "9702                      90.23  \n",
       "11652                    133.02  \n",
       "6118                     103.66  "
      ]
     },
     "execution_count": 11,
     "metadata": {},
     "output_type": "execute_result"
    }
   ],
   "source": [
    "# Count transactions and sum transaction amounts per customer_id\n",
    "transactions_per_cust = transactions.groupby('customer_id').agg(\n",
    "    total_transactions=('transaction_amount', 'count'),\n",
    "    total_transaction_amount=('transaction_amount', 'sum')\n",
    ").reset_index().sort_values(by=['total_transactions', 'total_transaction_amount'], ascending=False)\n",
    "\n",
    "transactions_per_cust.to_csv(r'data\\04_fct\\fct_transactions_per_cust.csv', index=False)\n",
    "transactions_per_cust.to_pickle(r'data\\04_fct\\fct_transactions_per_cust.pkl')\n",
    "transactions_per_cust.head()"
   ]
  },
  {
   "cell_type": "markdown",
   "metadata": {},
   "source": [
    "# Summarize the Data"
   ]
  },
  {
   "cell_type": "code",
   "execution_count": 12,
   "metadata": {},
   "outputs": [
    {
     "name": "stdout",
     "output_type": "stream",
     "text": [
      "There are 16578 unique customers in the transactions data\n"
     ]
    },
    {
     "data": {
      "text/html": [
       "<div>\n",
       "<style scoped>\n",
       "    .dataframe tbody tr th:only-of-type {\n",
       "        vertical-align: middle;\n",
       "    }\n",
       "\n",
       "    .dataframe tbody tr th {\n",
       "        vertical-align: top;\n",
       "    }\n",
       "\n",
       "    .dataframe thead th {\n",
       "        text-align: right;\n",
       "    }\n",
       "</style>\n",
       "<table border=\"1\" class=\"dataframe\">\n",
       "  <thead>\n",
       "    <tr style=\"text-align: right;\">\n",
       "      <th></th>\n",
       "      <th>total_transactions</th>\n",
       "      <th>total_transaction_amount</th>\n",
       "    </tr>\n",
       "  </thead>\n",
       "  <tbody>\n",
       "    <tr>\n",
       "      <th>count</th>\n",
       "      <td>16578.0</td>\n",
       "      <td>16578.0</td>\n",
       "    </tr>\n",
       "    <tr>\n",
       "      <th>mean</th>\n",
       "      <td>8.0</td>\n",
       "      <td>107.0</td>\n",
       "    </tr>\n",
       "    <tr>\n",
       "      <th>std</th>\n",
       "      <td>5.0</td>\n",
       "      <td>126.0</td>\n",
       "    </tr>\n",
       "    <tr>\n",
       "      <th>min</th>\n",
       "      <td>1.0</td>\n",
       "      <td>0.0</td>\n",
       "    </tr>\n",
       "    <tr>\n",
       "      <th>25%</th>\n",
       "      <td>5.0</td>\n",
       "      <td>24.0</td>\n",
       "    </tr>\n",
       "    <tr>\n",
       "      <th>50%</th>\n",
       "      <td>7.0</td>\n",
       "      <td>72.0</td>\n",
       "    </tr>\n",
       "    <tr>\n",
       "      <th>75%</th>\n",
       "      <td>11.0</td>\n",
       "      <td>151.0</td>\n",
       "    </tr>\n",
       "    <tr>\n",
       "      <th>max</th>\n",
       "      <td>36.0</td>\n",
       "      <td>1609.0</td>\n",
       "    </tr>\n",
       "  </tbody>\n",
       "</table>\n",
       "</div>"
      ],
      "text/plain": [
       "       total_transactions  total_transaction_amount\n",
       "count             16578.0                   16578.0\n",
       "mean                  8.0                     107.0\n",
       "std                   5.0                     126.0\n",
       "min                   1.0                       0.0\n",
       "25%                   5.0                      24.0\n",
       "50%                   7.0                      72.0\n",
       "75%                  11.0                     151.0\n",
       "max                  36.0                    1609.0"
      ]
     },
     "execution_count": 12,
     "metadata": {},
     "output_type": "execute_result"
    }
   ],
   "source": [
    "unique_cust = transactions_per_cust['customer_id'].nunique()\n",
    "print(f'There are {unique_cust} unique customers in the transactions data')\n",
    "\n",
    "summary_df = pd.concat(\n",
    "    [\n",
    "        round(transactions_per_cust['total_transactions'].describe()), \n",
    "        round(transactions_per_cust['total_transaction_amount'].describe())\n",
    "        ], \n",
    "    axis=1)\n",
    "\n",
    "summary_df.to_csv(r'data\\04_fct\\fct_transactions_summary.csv')\n",
    "\n",
    "summary_df"
   ]
  },
  {
   "cell_type": "code",
   "execution_count": 13,
   "metadata": {},
   "outputs": [
    {
     "data": {
      "image/png": "[encoded data removed]",
      "text/plain": [
       "<Figure size 1400x600 with 2 Axes>"
      ]
     },
     "metadata": {},
     "output_type": "display_data"
    }
   ],
   "source": [
    "#num binds\n",
    "num_bins1 = 30\n",
    "num_bins2 = 30\n",
    "\n",
    "# Using the square root rule to determine the number of bins returns 128 which is too many bins\n",
    "# num_bins1 = int(np.sqrt(len(transactions_per_cust['total_transactions'])))\n",
    "# num_bins2 = int(np.sqrt(len(transactions_per_cust['total_transaction_amount'])))\n",
    "\n",
    "# Create a figure and a set of subplots\n",
    "fig, (ax1, ax2) = plt.subplots(1, 2, figsize=(14, 6))\n",
    "\n",
    "# Plot the histogram for total_transactions\n",
    "ax1.hist(transactions_per_cust['total_transactions'], bins=num_bins1, alpha=0.7, color='tab:blue')\n",
    "ax1.set_xlabel('Total Transactions')\n",
    "ax1.set_ylabel('Frequency')\n",
    "ax1.set_title('Distribution of Total Transactions')\n",
    "\n",
    "# Plot the histogram for total_transaction_amount\n",
    "ax2.hist(transactions_per_cust['total_transaction_amount'], bins=num_bins2, alpha=0.7, color='tab:green')\n",
    "ax2.set_xlabel('Total Transaction Amount')\n",
    "ax2.set_ylabel('Frequency')\n",
    "ax2.set_title('Distribution of Total Transaction Amount')\n",
    "\n",
    "# Add a title for the whole figure\n",
    "fig.suptitle('Distributions of Total Transactions and Total Transaction Amount')\n",
    "\n",
    "# Show the plots\n",
    "plt.show()"
   ]
  },
  {
   "cell_type": "markdown",
   "metadata": {},
   "source": [
    "# Take a Look at Outliers"
   ]
  },
  {
   "cell_type": "code",
   "execution_count": 14,
   "metadata": {},
   "outputs": [
    {
     "data": {
      "text/html": [
       "<div>\n",
       "<style scoped>\n",
       "    .dataframe tbody tr th:only-of-type {\n",
       "        vertical-align: middle;\n",
       "    }\n",
       "\n",
       "    .dataframe tbody tr th {\n",
       "        vertical-align: top;\n",
       "    }\n",
       "\n",
       "    .dataframe thead th {\n",
       "        text-align: right;\n",
       "    }\n",
       "</style>\n",
       "<table border=\"1\" class=\"dataframe\">\n",
       "  <thead>\n",
       "    <tr style=\"text-align: right;\">\n",
       "      <th></th>\n",
       "      <th>customer_id</th>\n",
       "      <th>total_transactions</th>\n",
       "      <th>total_transaction_amount</th>\n",
       "    </tr>\n",
       "  </thead>\n",
       "  <tbody>\n",
       "    <tr>\n",
       "      <th>3929</th>\n",
       "      <td>3c8d541112a74af99e88abbd0692f00e</td>\n",
       "      <td>8</td>\n",
       "      <td>1608.69</td>\n",
       "    </tr>\n",
       "    <tr>\n",
       "      <th>15693</th>\n",
       "      <td>f1d65ae63f174b8f80fa063adcaa63b7</td>\n",
       "      <td>13</td>\n",
       "      <td>1365.66</td>\n",
       "    </tr>\n",
       "    <tr>\n",
       "      <th>11422</th>\n",
       "      <td>ae6f43089b674728a50b8727252d3305</td>\n",
       "      <td>16</td>\n",
       "      <td>1327.74</td>\n",
       "    </tr>\n",
       "    <tr>\n",
       "      <th>6366</th>\n",
       "      <td>626df8678e2a4953b9098246418c9cfa</td>\n",
       "      <td>13</td>\n",
       "      <td>1321.42</td>\n",
       "    </tr>\n",
       "    <tr>\n",
       "      <th>7492</th>\n",
       "      <td>73afdeca19e349b98f09e928644610f8</td>\n",
       "      <td>10</td>\n",
       "      <td>1319.97</td>\n",
       "    </tr>\n",
       "  </tbody>\n",
       "</table>\n",
       "</div>"
      ],
      "text/plain": [
       "                            customer_id  total_transactions  \\\n",
       "3929   3c8d541112a74af99e88abbd0692f00e                   8   \n",
       "15693  f1d65ae63f174b8f80fa063adcaa63b7                  13   \n",
       "11422  ae6f43089b674728a50b8727252d3305                  16   \n",
       "6366   626df8678e2a4953b9098246418c9cfa                  13   \n",
       "7492   73afdeca19e349b98f09e928644610f8                  10   \n",
       "\n",
       "       total_transaction_amount  \n",
       "3929                    1608.69  \n",
       "15693                   1365.66  \n",
       "11422                   1327.74  \n",
       "6366                    1321.42  \n",
       "7492                    1319.97  "
      ]
     },
     "execution_count": 14,
     "metadata": {},
     "output_type": "execute_result"
    }
   ],
   "source": [
    "# It looks like several people are spending over $1000\n",
    "transactions_per_cust.sort_values(by='total_transaction_amount', ascending=False).head()"
   ]
  },
  {
   "cell_type": "code",
   "execution_count": 15,
   "metadata": {},
   "outputs": [
    {
     "data": {
      "text/plain": [
       "customer_id                 48\n",
       "total_transactions          48\n",
       "total_transaction_amount    48\n",
       "dtype: int64"
      ]
     },
     "execution_count": 15,
     "metadata": {},
     "output_type": "execute_result"
    }
   ],
   "source": [
    "#Count the number of customer_ids with total_transaction_amount > 1000\n",
    "transactions_per_cust[transactions_per_cust['total_transaction_amount'] > 1000].count()"
   ]
  },
  {
   "cell_type": "code",
   "execution_count": 16,
   "metadata": {},
   "outputs": [
    {
     "name": "stdout",
     "output_type": "stream",
     "text": [
      "There are 385 transactions over $150\n",
      "This is 2.32% of all transactions\n"
     ]
    }
   ],
   "source": [
    "num_transactions = len(transactions_per_cust)\n",
    "\n",
    "num_transactions_over_150 = transactions[transactions['transaction_amount'] > 150].count()\n",
    "print(f'There are {num_transactions_over_150.iloc[0]} transactions over $150')\n",
    "percent_transactions_over_150 = round((num_transactions_over_150.iloc[0] / num_transactions) * 100, 2)\n",
    "print(f'This is {percent_transactions_over_150}% of all transactions')"
   ]
  },
  {
   "cell_type": "code",
   "execution_count": 17,
   "metadata": {},
   "outputs": [
    {
     "data": {
      "text/html": [
       "<div>\n",
       "<style scoped>\n",
       "    .dataframe tbody tr th:only-of-type {\n",
       "        vertical-align: middle;\n",
       "    }\n",
       "\n",
       "    .dataframe tbody tr th {\n",
       "        vertical-align: top;\n",
       "    }\n",
       "\n",
       "    .dataframe thead th {\n",
       "        text-align: right;\n",
       "    }\n",
       "</style>\n",
       "<table border=\"1\" class=\"dataframe\">\n",
       "  <thead>\n",
       "    <tr style=\"text-align: right;\">\n",
       "      <th></th>\n",
       "      <th>customer_id</th>\n",
       "      <th>transaction</th>\n",
       "      <th>transaction_amount</th>\n",
       "    </tr>\n",
       "  </thead>\n",
       "  <tbody>\n",
       "    <tr>\n",
       "      <th>95035</th>\n",
       "      <td>ae6f43089b674728a50b8727252d3305</td>\n",
       "      <td>240</td>\n",
       "      <td>601.64</td>\n",
       "    </tr>\n",
       "    <tr>\n",
       "      <th>95032</th>\n",
       "      <td>ae6f43089b674728a50b8727252d3305</td>\n",
       "      <td>180</td>\n",
       "      <td>451.96</td>\n",
       "    </tr>\n",
       "    <tr>\n",
       "      <th>95041</th>\n",
       "      <td>ae6f43089b674728a50b8727252d3305</td>\n",
       "      <td>492</td>\n",
       "      <td>30.27</td>\n",
       "    </tr>\n",
       "    <tr>\n",
       "      <th>95037</th>\n",
       "      <td>ae6f43089b674728a50b8727252d3305</td>\n",
       "      <td>306</td>\n",
       "      <td>24.95</td>\n",
       "    </tr>\n",
       "    <tr>\n",
       "      <th>95034</th>\n",
       "      <td>ae6f43089b674728a50b8727252d3305</td>\n",
       "      <td>222</td>\n",
       "      <td>23.06</td>\n",
       "    </tr>\n",
       "  </tbody>\n",
       "</table>\n",
       "</div>"
      ],
      "text/plain": [
       "                            customer_id  transaction  transaction_amount\n",
       "95035  ae6f43089b674728a50b8727252d3305          240              601.64\n",
       "95032  ae6f43089b674728a50b8727252d3305          180              451.96\n",
       "95041  ae6f43089b674728a50b8727252d3305          492               30.27\n",
       "95037  ae6f43089b674728a50b8727252d3305          306               24.95\n",
       "95034  ae6f43089b674728a50b8727252d3305          222               23.06"
      ]
     },
     "execution_count": 17,
     "metadata": {},
     "output_type": "execute_result"
    }
   ],
   "source": [
    "#Filter transactions on customer_id = 3c8d541112a74af99e88abbd0692f00e\n",
    "example_customer = transactions[transactions['customer_id'] == 'ae6f43089b674728a50b8727252d3305']\n",
    "example_customer.sort_values(by='transaction_amount', ascending=False).head()"
   ]
  },
  {
   "cell_type": "code",
   "execution_count": 18,
   "metadata": {},
   "outputs": [
    {
     "data": {
      "image/png": "[encoded data removed]",
      "text/plain": [
       "<Figure size 640x480 with 1 Axes>"
      ]
     },
     "metadata": {},
     "output_type": "display_data"
    }
   ],
   "source": [
    "# Create the box plot\n",
    "sns.boxplot(x=transactions['transaction_amount'])\n",
    "\n",
    "# Set the title\n",
    "plt.title('Box Plot of Transaction Amount')\n",
    "\n",
    "# Show the plot\n",
    "plt.show()"
   ]
  },
  {
   "cell_type": "code",
   "execution_count": null,
   "metadata": {},
   "outputs": [],
   "source": []
  }
 ],
 "metadata": {
  "kernelspec": {
   "display_name": ".venv",
   "language": "python",
   "name": "python3"
  },
  "language_info": {
   "codemirror_mode": {
    "name": "ipython",
    "version": 3
   },
   "file_extension": ".py",
   "mimetype": "text/x-python",
   "name": "python",
   "nbconvert_exporter": "python",
   "pygments_lexer": "ipython3",
   "version": "3.12.0"
  }
 },
 "nbformat": 4,
 "nbformat_minor": 2
}

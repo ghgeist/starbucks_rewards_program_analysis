{
 "cells": [
  {
   "cell_type": "code",
   "execution_count": null,
   "metadata": {},
   "outputs": [],
   "source": [
    "\"\"\"\n",
    "I'm noticing this split is 56/44. I'm thinking that they might have joined two database to produce\n",
    "the data\n",
    "\"\"\"\n",
    "\n",
    "# Create a boolean column that indicates whether a combination occurred\n",
    "transcript['had_duplicate_office_id'] = transcript['offer id'].isna()\n",
    "\n",
    "# Combine 'offer_id' and 'offer id' into one column\n",
    "transcript['offer_id'] = transcript['offer_id'].combine_first(transcript['offer id'])\n",
    "\n",
    "#Rename 'offer id' to 'offer_id\n",
    "transcript.rename(columns={'offer id': 'offer_id', 'time': 'time_h'}, inplace=True)"
   ]
  },
  {
   "cell_type": "code",
   "execution_count": null,
   "metadata": {},
   "outputs": [],
   "source": [
    "#count unique customer_ids\n",
    "unique_customers = transcript['customer_id'].nunique()\n",
    "print('unique_customers:', unique_customers)\n",
    "\n",
    "#Count the unique customer_ids that received transcript['event'] == 'offer received'\n",
    "unique_offers = transcript[transcript['event'] == 'offer received']['customer_id'].nunique()\n",
    "print('unique_offers:', unique_offers)\n",
    "\n",
    "#Looks like there might be a few dummy customers in there\n",
    "\n",
    "#print the minimum and maximum time\n",
    "min_time = transcript['time_hrs'].min()\n",
    "max_time = transcript['time_hrs'].max()\n",
    "print('max_time:', max_time)\n",
    "\n",
    "#Convert hours to days -> Come back and fix this so it's days and hours\n",
    "max_days = max_time / 24\n",
    "print('max_days:', max_days)"
   ]
  }
 ],
 "metadata": {
  "language_info": {
   "name": "python"
  }
 },
 "nbformat": 4,
 "nbformat_minor": 2
}

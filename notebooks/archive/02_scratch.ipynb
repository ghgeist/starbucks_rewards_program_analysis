{
 "cells": [
  {
   "cell_type": "code",
   "execution_count": null,
   "metadata": {},
   "outputs": [],
   "source": [
    "id_cols = ['customer_id', 'offer_id']\n",
    "demo_cat_cols = ['age','income', 'days_as_member']\n",
    "demo_bool_cols = ['gender_F', 'gender_M', 'gender_O', 'gender_Unknown']\n",
    "offer_hrs_cols = ['offer_received', 'offer_viewed', 'offer_completed']\n",
    "offer_type_bool_cols = ['is_bogo', 'is_discount','is_informational']\n",
    "offer_desc_cols = ['difficulty', 'reward', 'duration_hrs', 'expiration']\n",
    "offer_channel_cols = ['email', 'mobile', 'social', 'web']\n",
    "offer_feat_cols =['time_to_complete','viewed_before_completion']"
   ]
  },
  {
   "cell_type": "code",
   "execution_count": 1,
   "metadata": {},
   "outputs": [
    {
     "ename": "SyntaxError",
     "evalue": "invalid syntax (3989314554.py, line 1)",
     "output_type": "error",
     "traceback": [
      "\u001b[1;36m  Cell \u001b[1;32mIn[1], line 1\u001b[1;36m\u001b[0m\n\u001b[1;33m    0 to 0.19: Very weak\u001b[0m\n\u001b[1;37m      ^\u001b[0m\n\u001b[1;31mSyntaxError\u001b[0m\u001b[1;31m:\u001b[0m invalid syntax\n"
     ]
    }
   ],
   "source": [
    "0 to 0.19: Very weak\n",
    "0.20 to 0.39: Weak\n",
    "0.40 to 0.59: Moderate\n",
    "0.60 to 0.79: Strong\n",
    "0.80 to 1.0: Very strong"
   ]
  },
  {
   "cell_type": "code",
   "execution_count": null,
   "metadata": {},
   "outputs": [],
   "source": [
    "\n",
    "### Drop unnecessary columns and simplify data set ###\n",
    "# # Dropping 'offer_received' because we know that all of the records are offers that have been received\n",
    "# # Drop 'gender_Unknown' to avoid colinearity\n",
    "# # Drop 'expiration' column because we're no longer looking at the timing of offers, just responses\n",
    "# # Drop 'offer_id' because we can identify the offer based off of it's encoded parts\n",
    "# # Drop 'email' because all offers were sent out via email\n",
    "# # Drop 'is_information' to avoid colinearity\n",
    "# matched_offers.drop(['offer_received','gender_Unknown', 'expiration', 'offer_id', 'email', 'is_informational'], axis=1, inplace=True)\n",
    "\n",
    "# # Dropping 'time_to_completion' because we can leverage 'expiration' as a rough gauge of how long it took to complete the offer\n",
    "# # Could potentially fill this with the expiration column\n",
    "# matched_offers.drop(['time_to_complete'], axis=1, inplace=True)\n",
    "\n",
    "# # Convert offer_viewed and offer_completed to boolean\n",
    "# matched_offers['offer_viewed'] = matched_offers['offer_viewed'].notnull().astype(int)\n",
    "# matched_offers['offer_completed'] = matched_offers['offer_completed'].notnull().astype(int)\n",
    "\n",
    "# # Convert total_transactions to int\n",
    "# matched_offers['total_transactions'] = matched_offers['total_transactions'].astype(int)\n",
    "# matched_offers['total_transaction_amount'] = round(matched_offers['total_transaction_amount'], 2)\n",
    "\n",
    "# # Fill viewed_before_completion with0\n",
    "# matched_offers['viewed_before_completion'] = matched_offers['viewed_before_completion'].fillna(0)\n",
    "\n",
    "\n",
    "# ### Downcast Data Types for Performance #### Converting the continuous columns to integers\n",
    "# ### Prep Demo Data ###\n",
    "# demo_data = matched_offers.copy()\n",
    "\n",
    "# # Drop rows with missing values so that we are only looking at the data that has demographic information\n",
    "# demo_data.dropna(inplace=True)\n",
    "\n",
    "# # Dropping gender_O to avoid colinearity with the gender data\n",
    "# demo_data = demo_data.drop('gender_O', axis=1) \n",
    "\n",
    "# int_cols = ['age', 'income', 'days_as_member', 'difficulty', 'reward', 'duration_hrs', 'total_transactions', 'total_transaction_amount']\n",
    "# for col in int_cols:\n",
    "#     demo_data[col] = pd.to_numeric(demo_data[col], downcast='integer')\n",
    "\n",
    "# # Converting the boolean columns to int8\n",
    "# boolean_cols = [\n",
    "#                 'gender_F','gender_M',\n",
    "#                 'offer_viewed', 'offer_completed','viewed_before_completion', \n",
    "#                 'mobile', 'social', 'web', 'is_bogo', 'is_discount'\n",
    "#                 ]\n",
    "# for col in boolean_cols:\n",
    "#     demo_data[col] = demo_data[col].astype('int8')\n",
    "\n",
    "# # Exporting the cleaned data\n",
    "# demo_data.to_pickle(r'data\\04_fct\\fct_demographic_offers_and_transactions.pkl')\n",
    "# demo_data.to_csv(r'data\\04_fct\\fct_demographic_offers_and_transactions.csv')\n",
    "\n",
    "# print(demo_data.dtypes)\n",
    "# demo_data.head()\n"
   ]
  }
 ],
 "metadata": {
  "kernelspec": {
   "display_name": ".venv",
   "language": "python",
   "name": "python3"
  },
  "language_info": {
   "codemirror_mode": {
    "name": "ipython",
    "version": 3
   },
   "file_extension": ".py",
   "mimetype": "text/x-python",
   "name": "python",
   "nbconvert_exporter": "python",
   "pygments_lexer": "ipython3",
   "version": "3.12.0"
  }
 },
 "nbformat": 4,
 "nbformat_minor": 2
}

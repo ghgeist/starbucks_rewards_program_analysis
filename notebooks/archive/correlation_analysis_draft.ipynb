{
 "cells": [
  {
   "cell_type": "code",
   "execution_count": null,
   "metadata": {},
   "outputs": [],
   "source": [
    "# Filtering the data to only looking at responses from women\n",
    "female_df = demo_data[demo_data['gender_F'] == 1]\n",
    "\n",
    "# Select only the columns of interest from the filtered DataFrame\n",
    "cols_of_interest = continuous_demographic_cols + boolean_offer_cols\n",
    "f_corr_matrix = female_df[cols_of_interest].corr()\n",
    "\n",
    "# Filter the correlation matrix\n",
    "f_corr_matrix = f_corr_matrix.loc[continuous_demographic_cols, boolean_offer_cols]\n",
    "\n",
    "# Standardize the heatmap scale\n",
    "vmin, vmax = 0, 1\n",
    "\n",
    "# Plot the data\n",
    "plt.figure(figsize=(10, 8))\n",
    "sns.heatmap(f_corr_matrix, annot=True, cmap='coolwarm', fmt=\".2f\", linewidths=.5, vmin=vmin, vmax=vmax)\n",
    "plt.title('Offer Responses by Female Demographics')\n",
    "plt.yticks(rotation=0)\n",
    "plt.xticks(rotation=0)\n",
    "plt.tick_params(axis='x', labeltop=True, labelbottom=False)\n",
    "plt.show()"
   ]
  },
  {
   "cell_type": "code",
   "execution_count": null,
   "metadata": {},
   "outputs": [],
   "source": [
    "# Independent variables\n",
    "continuous_demographic_cols = ['age', 'income', 'days_as_member']\n",
    "\n",
    "# Experiment\n",
    "boolean_offer_type_cols = ['is_bogo', 'is_discount']\n",
    "\n",
    "# Experiment Conditions\n",
    "categorical_offer_cols = ['difficulty', 'reward', 'duration_hrs']\n",
    "\n",
    "# Actions\n",
    "boolean_offer_cols = ['offer_viewed', 'offer_completed', 'viewed_before_completion']\n",
    "\n",
    "# Experiment Distribution\n",
    "boolean_offer_channel_cols = ['email', 'mobile', 'social', 'web']\n",
    "\n",
    "# Result\n",
    "continuous_transaction_cols = ['total_transactions', 'total_transaction_amount']\n"
   ]
  }
 ],
 "metadata": {
  "language_info": {
   "name": "python"
  }
 },
 "nbformat": 4,
 "nbformat_minor": 2
}

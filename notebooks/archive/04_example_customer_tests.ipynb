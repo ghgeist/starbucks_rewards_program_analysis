{
 "cells": [
  {
   "cell_type": "code",
   "execution_count": 1,
   "metadata": {},
   "outputs": [],
   "source": [
    "import pandas as pd\n"
   ]
  },
  {
   "cell_type": "code",
   "execution_count": null,
   "metadata": {},
   "outputs": [],
   "source": [
    "example_customer_transactions_1 = transactions[transactions['customer_id'] == '0009655768c64bdeb2e877511632db8f']\n",
    "example_customer_transactions_1.to_csv(r'data\\03_int\\int_example_customer_transactions_1.csv', index=False)\n",
    "example_customer_transactions_1.head()"
   ]
  },
  {
   "cell_type": "code",
   "execution_count": null,
   "metadata": {},
   "outputs": [],
   "source": [
    "example_customer_transactions_1 = transactions[transactions['customer_id'] == '0009655768c64bdeb2e877511632db8f']\n",
    "example_customer_transactions_1.to_csv(r'data\\03_int\\int_example_customer_transactions_1.csv', index=False)\n",
    "example_customer_transactions_1.head()"
   ]
  }
 ],
 "metadata": {
  "kernelspec": {
   "display_name": ".venv",
   "language": "python",
   "name": "python3"
  },
  "language_info": {
   "codemirror_mode": {
    "name": "ipython",
    "version": 3
   },
   "file_extension": ".py",
   "mimetype": "text/x-python",
   "name": "python",
   "nbconvert_exporter": "python",
   "pygments_lexer": "ipython3",
   "version": "3.12.0"
  }
 },
 "nbformat": 4,
 "nbformat_minor": 2
}

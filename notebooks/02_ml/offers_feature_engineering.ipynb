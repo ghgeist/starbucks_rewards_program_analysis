{
 "cells": [
  {
   "cell_type": "code",
   "execution_count": 1,
   "metadata": {},
   "outputs": [
    {
     "ename": "NameError",
     "evalue": "name 'df_pivot_offers' is not defined",
     "output_type": "error",
     "traceback": [
      "\u001b[1;31m---------------------------------------------------------------------------\u001b[0m",
      "\u001b[1;31mNameError\u001b[0m                                 Traceback (most recent call last)",
      "Cell \u001b[1;32mIn[1], line 21\u001b[0m\n\u001b[0;32m     18\u001b[0m         \u001b[38;5;28;01mreturn\u001b[39;00m np\u001b[38;5;241m.\u001b[39mnan\n\u001b[0;32m     20\u001b[0m \u001b[38;5;66;03m# Apply the function to each row\u001b[39;00m\n\u001b[1;32m---> 21\u001b[0m df_pivot_offers[\u001b[38;5;124m'\u001b[39m\u001b[38;5;124mtime_to_completion\u001b[39m\u001b[38;5;124m'\u001b[39m] \u001b[38;5;241m=\u001b[39m \u001b[43mdf_pivot_offers\u001b[49m\u001b[38;5;241m.\u001b[39mapply(time_to_complete, axis\u001b[38;5;241m=\u001b[39m\u001b[38;5;241m1\u001b[39m)\n",
      "\u001b[1;31mNameError\u001b[0m: name 'df_pivot_offers' is not defined"
     ]
    }
   ],
   "source": [
    "### for offers ###\n",
    "def time_to_complete(row):\n",
    "    # Check if the offer was viewed\n",
    "    offer_viewed = pd.notnull(row['offer_viewed'])\n",
    "    # Check if the offer was completed\n",
    "    offer_completed = pd.notnull(row['offer_completed'])\n",
    "    \n",
    "    # If the offer was viewed and completed, and the time of viewing is less than or equal to the time of completion\n",
    "    if offer_viewed and offer_completed and row['offer_viewed'] <= row['offer_completed']:\n",
    "        # Return the time difference between completion and viewing\n",
    "        return row['offer_completed'] - row['offer_viewed']\n",
    "    # If the offer was not viewed but was completed\n",
    "    elif offer_completed:\n",
    "        # Return the time difference between completion and receiving the offer\n",
    "        return row['offer_completed'] - row['offer_received']\n",
    "    else:\n",
    "        # If the offer was neither viewed nor completed, return NaN\n",
    "        return np.nan\n",
    "\n",
    "# Apply the function to each row\n",
    "df_pivot_offers['time_to_completion'] = df_pivot_offers.apply(time_to_complete, axis=1)"
   ]
  },
  {
   "cell_type": "code",
   "execution_count": 2,
   "metadata": {},
   "outputs": [
    {
     "ename": "NameError",
     "evalue": "name 'df_merged' is not defined",
     "output_type": "error",
     "traceback": [
      "\u001b[1;31m---------------------------------------------------------------------------\u001b[0m",
      "\u001b[1;31mNameError\u001b[0m                                 Traceback (most recent call last)",
      "Cell \u001b[1;32mIn[2], line 32\u001b[0m\n\u001b[0;32m     29\u001b[0m         \u001b[38;5;28;01mreturn\u001b[39;00m \u001b[38;5;241m-\u001b[39m\u001b[38;5;241m2\u001b[39m\n\u001b[0;32m     31\u001b[0m \u001b[38;5;66;03m# Apply the function to each row\u001b[39;00m\n\u001b[1;32m---> 32\u001b[0m df_merged[\u001b[38;5;124m'\u001b[39m\u001b[38;5;124moffer_effect\u001b[39m\u001b[38;5;124m'\u001b[39m] \u001b[38;5;241m=\u001b[39m \u001b[43mdf_merged\u001b[49m\u001b[38;5;241m.\u001b[39mapply(calculate_offer_effect, axis\u001b[38;5;241m=\u001b[39m\u001b[38;5;241m1\u001b[39m)\n",
      "\u001b[1;31mNameError\u001b[0m: name 'df_merged' is not defined"
     ]
    }
   ],
   "source": [
    "#I'm not sure if this is needed. wouldn't we want to see the client is spending more money if they get the offer?\n",
    "\n",
    "def calculate_offer_effect(row):\n",
    "    offer_viewed = pd.notnull(row['offer_viewed'])\n",
    "    offer_completed = pd.notnull(row['offer_completed'])\n",
    "    \n",
    "    if row['offer_type'] == 'informational':\n",
    "        # Excluding informational offers because they do not have a completion condition\n",
    "        return np.nan\n",
    "    elif offer_viewed and offer_completed:\n",
    "        if row['offer_viewed'] < row['offer_completed']:\n",
    "            # The offer was viewed and completed. This is the ideal behavior\n",
    "            return 2\n",
    "        if row['offer_viewed'] == row['offer_completed']:\n",
    "            # The offer was viewed roughly at the same time it was completed\n",
    "            # Not ideal, but I am considering it as a positive effect because the customer is associating their purchase with the offer\n",
    "            return 1\n",
    "        else:\n",
    "            # The offer was viewed after it was completed. This indicates that the customer was probably already going to make the purchase\n",
    "            return 0\n",
    "    elif offer_viewed and row['offer_viewed'] <= (row['expiration'] - 4):\n",
    "        # The offer was viewed at least 4 hours before the expiration, but not completed\n",
    "        return 0\n",
    "    elif not offer_viewed and offer_completed:\n",
    "        # The offer was not viewed, but completed\n",
    "        return -1\n",
    "    else:\n",
    "        # The offer was not viewed and not completed\n",
    "        return -2\n",
    "\n",
    "# Apply the function to each row\n",
    "df_merged['offer_effect'] = df_merged.apply(calculate_offer_effect, axis=1)"
   ]
  },
  {
   "cell_type": "code",
   "execution_count": null,
   "metadata": {},
   "outputs": [],
   "source": []
  }
 ],
 "metadata": {
  "kernelspec": {
   "display_name": ".venv",
   "language": "python",
   "name": "python3"
  },
  "language_info": {
   "codemirror_mode": {
    "name": "ipython",
    "version": 3
   },
   "file_extension": ".py",
   "mimetype": "text/x-python",
   "name": "python",
   "nbconvert_exporter": "python",
   "pygments_lexer": "ipython3",
   "version": "3.12.0"
  }
 },
 "nbformat": 4,
 "nbformat_minor": 2
}
